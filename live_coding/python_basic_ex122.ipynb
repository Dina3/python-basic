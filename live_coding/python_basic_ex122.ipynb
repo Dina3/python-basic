{
 "cells": [
  {
   "cell_type": "code",
   "execution_count": null,
   "metadata": {},
   "outputs": [],
   "source": [
    "# Ex 1.2.2\n",
    "\n",
    "# genetic code\n",
    "serine = 'AGU'\n",
    "leucine = 'CUU'\n",
    "tyrosine = 'UAU'\n",
    "cysteine = 'UGU'\n",
    "\n",
    "# DNA sequence for SYLYC\n",
    "seq = serine + tyrosine + leucine + tyrosine + cysteine\n",
    "\n",
    "print(seq)\n"
   ]
  }
 ],
 "metadata": {
  "kernelspec": {
   "display_name": "Python 3",
   "language": "python",
   "name": "python3"
  },
  "language_info": {
   "codemirror_mode": {
    "name": "ipython",
    "version": 3
   },
   "file_extension": ".py",
   "mimetype": "text/x-python",
   "name": "python",
   "nbconvert_exporter": "python",
   "pygments_lexer": "ipython3",
   "version": "3.6.4"
  }
 },
 "nbformat": 4,
 "nbformat_minor": 2
}

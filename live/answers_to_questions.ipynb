{
 "cells": [
  {
   "cell_type": "code",
   "execution_count": null,
   "metadata": {},
   "outputs": [],
   "source": [
    "# slicing list with steps\n",
    "my_list = [1, 3, 5, 7, 9, 2, 4, 6, 8]\n",
    "my_list[1:8:3]"
   ]
  },
  {
   "cell_type": "code",
   "execution_count": null,
   "metadata": {},
   "outputs": [],
   "source": [
    "# list comprehension with selected indexes over two lists\n",
    "my_list = [1, 3, 5, 7, 9, 2, 4, 6, 8]\n",
    "my_second_list = ['a', 'b', 'd', 'e', 'g', 'q', 'j', 's', 'b']\n",
    "my_indexes = [0, 3, 7]\n",
    "\n",
    "[my_list[i] for i in my_indexes]"
   ]
  },
  {
   "cell_type": "code",
   "execution_count": null,
   "metadata": {},
   "outputs": [],
   "source": [
    "# sorting list and getting back sorted indexes to be used to order other list using third party library numpy\n",
    "import numpy  # numpy will need to be installed first \n",
    "\n",
    "sorted_list = numpy.sort(my_list)\n",
    "print(sorted_list)\n",
    "\n",
    "my_sorted_indexes = numpy.argsort(my_list)\n",
    "print(my_sorted_indexes)\n",
    "\n",
    "[my_second_list[i] for i in my_sorted_indexes]"
   ]
  },
  {
   "cell_type": "code",
   "execution_count": null,
   "metadata": {},
   "outputs": [],
   "source": [
    "# sorting list and getting back sorted indexes to be used to order other list using enumerate() and sorted()\n",
    "my_sorted_indexes = [i for (v, i) in sorted((v, i) for (i, v) in enumerate(my_list))]\n",
    "print(my_sorted_indexes)\n",
    "\n",
    "[my_second_list[i] for i in my_sorted_indexes]"
   ]
  },
  {
   "cell_type": "code",
   "execution_count": null,
   "metadata": {},
   "outputs": [],
   "source": [
    "# concatenating two lists using '+' symbol\n",
    "seq = ['AAA', 'TTT']\n",
    "stop = ['STOP']\n",
    "new_seq = seq + stop\n",
    "print(new_seq)"
   ]
  },
  {
   "cell_type": "code",
   "execution_count": null,
   "metadata": {},
   "outputs": [],
   "source": [
    "# using regular expression to find all occurrences of the letter 'e' in a string\n",
    "import re\n",
    "my_text = \"Check occurrences within this string.\";\n",
    "for m in re.finditer('e', my_text):\n",
    "    print(m.start(), m.end())"
   ]
  },
  {
   "cell_type": "code",
   "execution_count": null,
   "metadata": {},
   "outputs": [],
   "source": [
    "# To execute python code on the command line\n",
    "# run on the command line without '!'\n",
    "# '!' symbol is used in jupyter notebook to run shell commands instead of python\n",
    "!python -c \"print('hello')\""
   ]
  }
 ],
 "metadata": {
  "kernelspec": {
   "display_name": "Python 3",
   "language": "python",
   "name": "python3"
  },
  "language_info": {
   "codemirror_mode": {
    "name": "ipython",
    "version": 3
   },
   "file_extension": ".py",
   "mimetype": "text/x-python",
   "name": "python",
   "nbconvert_exporter": "python",
   "pygments_lexer": "ipython3",
   "version": "3.6.4"
  }
 },
 "nbformat": 4,
 "nbformat_minor": 2
}

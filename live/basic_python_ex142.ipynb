{
 "cells": [
  {
   "cell_type": "code",
   "execution_count": null,
   "metadata": {},
   "outputs": [],
   "source": [
    "dna_seq = 'GTT GCA CCA CAA CCG'\n",
    "codon_list = dna_seq.split()\n",
    "print(codon_list)\n",
    "\n",
    "genetic_code = {\n",
    "    'GTT': 'V',\n",
    "    'GCA': 'A',\n",
    "    'CCA': 'P',\n",
    "    'CAA': 'G',\n",
    "    'CCG': 'P'\n",
    "}\n",
    "\n",
    "print(genetic_code)\n",
    "\n",
    "print(codon_list[0], 'codes for', genetic_code[codon_list[0]])\n",
    "print(codon_list[1], 'codes for', genetic_code[codon_list[1]])\n",
    "print(codon_list[2], 'codes for', genetic_code[codon_list[2]])\n",
    "print(codon_list[3], 'codes for', genetic_code[codon_list[3]])\n",
    "print(codon_list[4], 'codes for', genetic_code[codon_list[4]])"
   ]
  }
 ],
 "metadata": {
  "kernelspec": {
   "display_name": "Python 3",
   "language": "python",
   "name": "python3"
  },
  "language_info": {
   "codemirror_mode": {
    "name": "ipython",
    "version": 3
   },
   "file_extension": ".py",
   "mimetype": "text/x-python",
   "name": "python",
   "nbconvert_exporter": "python",
   "pygments_lexer": "ipython3",
   "version": "3.6.4"
  }
 },
 "nbformat": 4,
 "nbformat_minor": 2
}

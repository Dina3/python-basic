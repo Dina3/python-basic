{
 "cells": [
  {
   "cell_type": "code",
   "execution_count": null,
   "metadata": {},
   "outputs": [],
   "source": [
    "# - Serine (S), Leucine (L), Tyrosine (Y), Cysteine (C)\n",
    "# - protein sequence SYLYC, what is the possible DNA sequence?\n",
    "\n",
    "s = 'TCT'\n",
    "l = 'CTT'\n",
    "y = 'TAT'\n",
    "c = 'TGC'\n",
    "\n",
    "dna_seq = s + y + l + y + c # SYLYC\n",
    "print(dna_seq)"
   ]
  }
 ],
 "metadata": {
  "kernelspec": {
   "display_name": "Python 3",
   "language": "python",
   "name": "python3"
  },
  "language_info": {
   "codemirror_mode": {
    "name": "ipython",
    "version": 3
   },
   "file_extension": ".py",
   "mimetype": "text/x-python",
   "name": "python",
   "nbconvert_exporter": "python",
   "pygments_lexer": "ipython3",
   "version": "3.6.4"
  }
 },
 "nbformat": 4,
 "nbformat_minor": 2
}

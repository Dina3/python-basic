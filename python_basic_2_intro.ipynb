{
 "cells": [
  {
   "cell_type": "markdown",
   "metadata": {
    "slideshow": {
     "slide_type": "slide"
    }
   },
   "source": [
    "# An introduction to solving biological problems with Python - day two\n",
    "\n",
    "- Our course webpage: http://pycam.github.io\n",
    "- Python website: https://www.python.org/ \n",
    "- Python docs: [Python 3 Standard Library](https://docs.python.org/3/library/index.html)"
   ]
  },
  {
   "cell_type": "markdown",
   "metadata": {
    "slideshow": {
     "slide_type": "slide"
    }
   },
   "source": [
    "## Learning objectives - day two\n",
    "\n",
    "- **Recall** what we've learned so far on variables, common data types and collections\n",
    "- **Propose and create** solutions using these concepts in an exercise\n",
    "- **Use** conditions to execute specific code block\n",
    "- **Employ** loops to repeat code block\n",
    "- **Practice** reading and writing files with Python\n",
    "- **Solve** more complex exercises"
   ]
  },
  {
   "cell_type": "markdown",
   "metadata": {
    "slideshow": {
     "slide_type": "slide"
    }
   },
   "source": [
    "## Course schedule - day two\n",
    "\n",
    "- 09:30-09:45: [0h15] **Introduction**\n",
    "- 09:45-10:45: [1h00] **Session 2.1** - Conditional execution\n",
    "- 10:45-11:00: *break*\n",
    "- 11:00-12:30: [1h30] **Session 2.2** - Loops\n",
    "- 12:30-13:30: *lunch break*\n",
    "- 13:30-15:00: [1h30] **Session 2.3** - Files\n",
    "- 15:00-15:15: *break*\n",
    "- 15:15-16:15: [1h00] **Session 2.4** - Delimited files\n",
    "- 16:15-16:30: *break*\n",
    "- 16:30-17:00: [0h30] **Wrap-up**"
   ]
  },
  {
   "cell_type": "markdown",
   "metadata": {
    "slideshow": {
     "slide_type": "slide"
    }
   },
   "source": [
    "## What we've learned so far\n",
    "\n",
    "- Simple data types, Collections\n",
    "- Functions used so far..."
   ]
  },
  {
   "cell_type": "markdown",
   "metadata": {
    "slideshow": {
     "slide_type": "slide"
    }
   },
   "source": [
    "## Simple data types"
   ]
  },
  {
   "cell_type": "code",
   "execution_count": 1,
   "metadata": {
    "slideshow": {
     "slide_type": "subslide"
    }
   },
   "outputs": [
    {
     "name": "stdout",
     "output_type": "stream",
     "text": [
      "Integer: 1\n",
      "Float 3.14\n",
      "True\n"
     ]
    }
   ],
   "source": [
    "## Integer\n",
    "i = 1\n",
    "print('Integer:', i)\n",
    "## Float\n",
    "x = 3.14\n",
    "print('Float', x)\n",
    "## Boolean\n",
    "print(True)"
   ]
  },
  {
   "cell_type": "code",
   "execution_count": 2,
   "metadata": {
    "slideshow": {
     "slide_type": "subslide"
    }
   },
   "outputs": [
    {
     "name": "stdout",
     "output_type": "stream",
     "text": [
      "ATGTCGTCTACAACACTspam's\n",
      "ATGTCGTCTACAACACT spam's\n"
     ]
    }
   ],
   "source": [
    "## String\n",
    "s0 = '' # empty string\n",
    "s1 = 'ATGTCGTCTACAACACT' # single quotes\n",
    "s2 = \"spam's\" # double quotes\n",
    "print(s1 + s2) # concatenate\n",
    "print(s1, s2) # print"
   ]
  },
  {
   "cell_type": "markdown",
   "metadata": {
    "slideshow": {
     "slide_type": "slide"
    }
   },
   "source": [
    "## Collections"
   ]
  },
  {
   "cell_type": "code",
   "execution_count": 3,
   "metadata": {
    "slideshow": {
     "slide_type": "subslide"
    }
   },
   "outputs": [
    {
     "name": "stdout",
     "output_type": "stream",
     "text": [
      "A tuple: (2, 3, 4, 5)\n",
      "First element of tuple: 2\n"
     ]
    }
   ],
   "source": [
    "## Tuple - immutable\n",
    "my_tuple = (2, 3, 4, 5)\n",
    "print('A tuple:', my_tuple)\n",
    "print('First element of tuple:', my_tuple[0])"
   ]
  },
  {
   "cell_type": "code",
   "execution_count": 4,
   "metadata": {
    "slideshow": {
     "slide_type": "subslide"
    }
   },
   "outputs": [
    {
     "name": "stdout",
     "output_type": "stream",
     "text": [
      "A list: [2, 3, 4, 5]\n",
      "First element of list: 2\n",
      "Appended list: [2, 3, 4, 5, 12]\n",
      "Modified list: [45, 3, 4, 5, 12]\n"
     ]
    }
   ],
   "source": [
    "## List\n",
    "my_list = [2, 3, 4, 5]\n",
    "print('A list:', my_list)\n",
    "print('First element of list:', my_list[0])\n",
    "my_list.append(12)\n",
    "print('Appended list:', my_list)\n",
    "my_list[0] = 45\n",
    "print('Modified list:', my_list)"
   ]
  },
  {
   "cell_type": "code",
   "execution_count": 5,
   "metadata": {
    "slideshow": {
     "slide_type": "subslide"
    }
   },
   "outputs": [
    {
     "name": "stdout",
     "output_type": "stream",
     "text": [
      "Here is a string: ATGTCATTT\n",
      "First character: A\n",
      "Slice text[1:3]: TG\n",
      "Number of characters in text 9\n"
     ]
    }
   ],
   "source": [
    "## String - immutable, tuple of characters\n",
    "text = \"ATGTCATTT\"\n",
    "print('Here is a string:', text)\n",
    "print('First character:', text[0])\n",
    "print('Slice text[1:3]:', text[1:3])\n",
    "print('Number of characters in text', len(text))"
   ]
  },
  {
   "cell_type": "code",
   "execution_count": 6,
   "metadata": {
    "slideshow": {
     "slide_type": "subslide"
    }
   },
   "outputs": [
    {
     "name": "stdout",
     "output_type": "stream",
     "text": [
      "A set: {1, 2, 4, 5, 6}\n"
     ]
    }
   ],
   "source": [
    "## Set - unique unordered elements\n",
    "my_set = set([1,2,2,2,2,4,5,6,6,6])\n",
    "print('A set:', my_set)"
   ]
  },
  {
   "cell_type": "code",
   "execution_count": 7,
   "metadata": {
    "slideshow": {
     "slide_type": "subslide"
    }
   },
   "outputs": [
    {
     "name": "stdout",
     "output_type": "stream",
     "text": [
      "A dictionary: {'A': 'Adenine', 'C': 'Cytosine', 'G': 'Guanine', 'T': 'Thymine'}\n",
      "Value associated to key C: Cytosine\n"
     ]
    }
   ],
   "source": [
    "## Dictionary\n",
    "my_dictionary = {\"A\": \"Adenine\", \n",
    "                 \"C\": \"Cytosine\", \n",
    "                 \"G\": \"Guanine\", \n",
    "                 \"T\": \"Thymine\"}\n",
    "print('A dictionary:', my_dictionary)\n",
    "print('Value associated to key C:', my_dictionary['C'])"
   ]
  },
  {
   "cell_type": "markdown",
   "metadata": {
    "slideshow": {
     "slide_type": "slide"
    }
   },
   "source": [
    "## Functions used so far..."
   ]
  },
  {
   "cell_type": "code",
   "execution_count": 8,
   "metadata": {},
   "outputs": [
    {
     "name": "stdout",
     "output_type": "stream",
     "text": [
      "There are 5 elements in the list ['A', 'C', 'A', 'T', 'G']\n",
      "There are 2 letter A in the list ['A', 'C', 'A', 'T', 'G']\n",
      "['ATG', 'TCA', 'CCG', 'GGC']\n"
     ]
    }
   ],
   "source": [
    "my_list = ['A', 'C', 'A', 'T', 'G']\n",
    "print('There are', len(my_list), 'elements in the list', my_list)\n",
    "print('There are', my_list.count('A'), 'letter A in the list', my_list)\n",
    "print(\"ATG TCA CCG GGC\".split())"
   ]
  },
  {
   "cell_type": "markdown",
   "metadata": {
    "slideshow": {
     "slide_type": "slide"
    }
   },
   "source": [
    "# Research before writing\n",
    "Or how to avoid writing code that's already been writen\n",
    "<center><img src=\"img/research_before_writing.png\" width=\"400\"></center>"
   ]
  },
  {
   "cell_type": "markdown",
   "metadata": {
    "slideshow": {
     "slide_type": "subslide"
    }
   },
   "source": [
    "- In the same way that before carrying out an experiment you would review the available literature, it is sensible to research if there are resources that will make it easier for you to write your program.\n",
    "\n",
    "\n",
    "- Python has **MANY** function libraries (called modules) which can be easily installed using the **pip** command and then you can import them into your code. Look at [https://pypi.org](https://pypi.org) for a searchable index.\n",
    "\n",
    "<center><img src=\"img/pypi-logo.svg\" width=\"160\"></center>\n",
    "\n",
    "- Look on https://github.com for examples of code from authors tackling similar problems. Useful place to learn programming tricks (Can find good and bad code on display here).\n"
   ]
  },
  {
   "cell_type": "markdown",
   "metadata": {
    "slideshow": {
     "slide_type": "subslide"
    }
   },
   "source": [
    "**Read the Documentation**\n",
    "\n",
    "- Python has extensive online documentation at https://docs.python.org/. This is for Python 3.x. There are pages for Python 2.x as well.\n",
    "- There is an extensive tutorial at: https://docs.python.org/3/tutorial/index.html\n",
    "\n",
    "**Online Fora**\n",
    "\n",
    "Useful for searching but if you wish to post a query please follow the sites ‘Netiquette’ and check that the question hasn’t been asked before.\n",
    "- https://stackoverflow.com – mostly programming but not just Python\n",
    "- https://www.biostars.org - Bioinformatics Q&A with some programming questions\n",
    "- http://seqanswers.com - Similar to Biostars\n",
    "\n"
   ]
  },
  {
   "cell_type": "markdown",
   "metadata": {
    "slideshow": {
     "slide_type": "subslide"
    }
   },
   "source": [
    "** Measure twice, cut once**\n",
    "\n",
    "Don’t rush to code. Plan & describe what your program will do and what it needs (Specification).\n",
    "\n",
    "- Can just write a few paragraphs of text into a `README.md` file\n",
    "- Or draw a flowchart e.g. https://www.draw.io/ \n",
    "\n",
    "<center><img src=\"img/better-prog.png\" width=\"300\"></center>"
   ]
  },
  {
   "cell_type": "markdown",
   "metadata": {
    "slideshow": {
     "slide_type": "subslide"
    }
   },
   "source": [
    "- Try to anticipate user responses (PEBKAC – Problem Exists Between Keyboard And Chair) and handle resulting errors\n",
    "- When writing anything beyond trivial programs try a bottom up approach i.e. write and test components before including them in your main program\n",
    "- Learn to use **pip** and you will then be able to use a vast library of python modules – this will save you writing code that re-invents the wheel"
   ]
  },
  {
   "cell_type": "markdown",
   "metadata": {
    "slideshow": {
     "slide_type": "slide"
    }
   },
   "source": [
    "## What to do when the program doesn’t work?\n",
    "Zen and the art of debugging\n",
    "\n",
    "**We ALL make mistakes when we code...**\n",
    "\n",
    "[Nov. 10, 1999: Metric Math Mistake Muffed Mars Meteorology Mission](https://www.wired.com/2010/11/1110mars-climate-observer-report/): A disaster investigation board reports that NASA's Mars Climate Orbiter burned up in the Martian atmosphere because engineers failed to convert units from English to metric. The $125 million satellite was supposed to be the first weather observer on another world. But as it approached the red planet to slip into a stable orbit Sept. 23, the orbiter vanished. Scientists realized quickly it was gone for good. \n",
    "\n",
    "|   |   |\n",
    "| - | - |\n",
    "| <img src=\"img/mars.jpg\" width=\"200\"> | 1 Pound (force) = 4.44822 Newtons |"
   ]
  },
  {
   "cell_type": "markdown",
   "metadata": {
    "slideshow": {
     "slide_type": "subslide"
    }
   },
   "source": [
    "**We ALL make mistakes when we code...**\n",
    "\n",
    "- Try things like printing (or logging) out contents variables – does the output match what we expected?\n",
    "  - Can get very tedious when a lot of variables & data structures are involved\n",
    "- Use writing values to a text file\n",
    "  - Can output many variables – still somewhat tedious to inspect\n",
    "- Track which bits of code are being executed and in what order by printing messages\n",
    "  - Better but can get messy and doesn’t scale well"
   ]
  },
  {
   "cell_type": "markdown",
   "metadata": {
    "slideshow": {
     "slide_type": "subslide"
    }
   },
   "source": [
    "**We ALL make mistakes when we code...**\n",
    "\n",
    "- Using a debugger tool (Read [*'How To Use the Python Debugger'*](https://www.digitalocean.com/community/tutorials/how-to-use-the-python-debugger))\n",
    "  - Many programming languages have tools like this\n",
    "  - They basically ‘step’ through your code stopping at ‘breakpoints’ and displaying \u000b",
    "a dump of the values of the variables\n",
    "  - They can take time to learn to use and to get the best out of them\n"
   ]
  },
  {
   "cell_type": "markdown",
   "metadata": {
    "slideshow": {
     "slide_type": "subslide"
    }
   },
   "source": [
    "**We ALL make mistakes when we code...**\n",
    "\n",
    "- Other tools like the Online Python tutor http://pythontutor.com/visualize.html#mode=edit\n",
    "  - This is a web-based tool that visualizes what is going on in your program\n",
    "  - Not suited for large or complex programs so e.g. test modules in it #betterprogramming"
   ]
  },
  {
   "cell_type": "markdown",
   "metadata": {
    "slideshow": {
     "slide_type": "subslide"
    }
   },
   "source": [
    "**We ALL make mistakes when we code...**\n",
    "<center><img src=\"img/python-tutor.png\"></center>"
   ]
  },
  {
   "cell_type": "markdown",
   "metadata": {
    "slideshow": {
     "slide_type": "subslide"
    }
   },
   "source": [
    "**Ways of testing your code**\n",
    "\n",
    "- Try to write test functions that call your code with test data and defined output `=` a pass\n",
    "- If you alter code to ‘improve’ it, then run the tests. If they do not pass then you’ve broken something!\n",
    "- Often useful if there is another package that does calculations e.g. ANOVA in R that you can run in parallel with your code – do you get the same/similar results with the same data? \n",
    "- Get another programmer to review your code (Many eyes principle). If nothing else it will be a test of your documentation and code comments (You did do that didn’t you?)."
   ]
  },
  {
   "cell_type": "markdown",
   "metadata": {
    "slideshow": {
     "slide_type": "slide"
    }
   },
   "source": [
    "## Next session\n",
    "\n",
    "Go to our next notebook: [python_basic_2_1](python_basic_2_1.ipynb)"
   ]
  }
 ],
 "metadata": {
  "celltoolbar": "Slideshow",
  "kernelspec": {
   "display_name": "Python 3",
   "language": "python",
   "name": "python3"
  },
  "language_info": {
   "codemirror_mode": {
    "name": "ipython",
    "version": 3
   },
   "file_extension": ".py",
   "mimetype": "text/x-python",
   "name": "python",
   "nbconvert_exporter": "python",
   "pygments_lexer": "ipython3",
   "version": "3.6.4"
  }
 },
 "nbformat": 4,
 "nbformat_minor": 1
}
